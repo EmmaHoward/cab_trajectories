{
 "cells": [
  {
   "cell_type": "code",
   "execution_count": 2,
   "id": "46b37be0",
   "metadata": {},
   "outputs": [],
   "source": [
    "from trajectory_grid import trajectory_grid\n",
    "import matplotlib.pyplot as plt\n",
    "import cartopy.crs as ccrs\n",
    "import numpy as np"
   ]
  },
  {
   "cell_type": "code",
   "execution_count": 3,
   "id": "feaa1bf3",
   "metadata": {},
   "outputs": [],
   "source": [
    "path = \"/storage/silver/metstudent/msc/users_2021/yc810080/data/traj_data2/\"\n",
    "filename= \"utraj-rf_cab2009101012\""
   ]
  },
  {
   "cell_type": "code",
   "execution_count": 4,
   "id": "6703efc4",
   "metadata": {},
   "outputs": [],
   "source": [
    "#initialise trajectory grid instance\n",
    "# shape must be the shape of the input data: nt, nz, ny, nx\n",
    "# where nt is the number of timesteps to read \n",
    "# and (nz,ny,nx) is the shape of the release grid\n",
    "# - if nt is less than the total number of timesteps outputted \n",
    "#    the array will be truncated - this may be desirable\n",
    "# - however (nz,ny,nx) must be set correctly or the data will \n",
    "#    be read in an incorrect order\n",
    "traj = trajectory_grid(filename=path+filename,shape=(20,34,41,61))"
   ]
  },
  {
   "cell_type": "code",
   "execution_count": 5,
   "id": "cb25ce84",
   "metadata": {},
   "outputs": [
    {
     "name": "stdout",
     "output_type": "stream",
     "text": [
      "trajectory_grid(base=2009-10-10_12, p: 975.0-150.0, lat: -5.0--25.0, lon: 10.0-40.0, (20, 34, 41, 61))\n"
     ]
    }
   ],
   "source": [
    "# print basic summary info\n",
    "print(traj)"
   ]
  },
  {
   "cell_type": "code",
   "execution_count": 6,
   "id": "c5bec974",
   "metadata": {},
   "outputs": [
    {
     "name": "stdout",
     "output_type": "stream",
     "text": [
      "lat (20, 34, 41, 61)\n",
      "lon (20, 34, 41, 61)\n",
      "p (20, 34, 41, 61)\n",
      "T (20, 34, 41, 61)\n",
      "PV (20, 34, 41, 61)\n",
      "q (20, 34, 41, 61)\n",
      "z (20, 34, 41, 61)\n",
      "blh (20, 34, 41, 61)\n"
     ]
    }
   ],
   "source": [
    "# list arrays and array shapes\n",
    "for key in traj.data.keys():\n",
    "    print(key,traj.data[key].shape)"
   ]
  },
  {
   "cell_type": "code",
   "execution_count": 7,
   "id": "9c52a9c2",
   "metadata": {},
   "outputs": [
    {
     "name": "stdout",
     "output_type": "stream",
     "text": [
      "2021-05-12 00:00:00\n",
      "2009-10-10 12:00:00\n",
      "/storage/silver/metstudent/msc/users_2021/yc810080/data/traj_data2/utraj-rf_cab2009101012\n",
      "F\n",
      "6\n",
      "HOURS\n",
      "5\n",
      "85034\n"
     ]
    }
   ],
   "source": [
    "# header info from utraj file etc. \n",
    "print(traj.data_basetime) # run date\n",
    "print(traj.traj_basetime) # trajectory start date\n",
    "print(traj.filename)\n",
    "print(traj.forward) # forward trajectories? true or false\n",
    "print(traj.interval_timesteps) #timestep \n",
    "print(traj.time_units) # units of timestep\n",
    "print(traj.n_attr) # number of atmospheric variables (excl. p,lon,lat)\n",
    "print(traj.ntraj) # number of trajectories\n"
   ]
  },
  {
   "cell_type": "code",
   "execution_count": 8,
   "id": "bc0e0ab4",
   "metadata": {},
   "outputs": [
    {
     "name": "stdout",
     "output_type": "stream",
     "text": [
      "trajectory_grid(base=2009-10-10_12, p: 775.0, lat: -5.0--9.5, lon: 10.0-14.5, (8, 10, 10))\n"
     ]
    }
   ],
   "source": [
    "# subset trajectory grid. This works like numpy array subsetting\n",
    "traj2 = traj[:8,8,:10,:10]\n",
    "print(traj2)"
   ]
  },
  {
   "cell_type": "code",
   "execution_count": 9,
   "id": "bed677b1",
   "metadata": {},
   "outputs": [
    {
     "name": "stdout",
     "output_type": "stream",
     "text": [
      "init. longitude:  [10.  10.5 11.  11.5 12.  12.5 13.  13.5 14.  14.5]\n",
      "init. latitude: [-5.  -5.5 -6.  -6.5 -7.  -7.5 -8.  -8.5 -9.  -9.5]\n",
      "init. pressure: 775.0\n",
      "times: [datetime.datetime(2009, 10, 10, 12, 0)\n",
      " datetime.datetime(2009, 10, 10, 6, 0)\n",
      " datetime.datetime(2009, 10, 10, 0, 0)\n",
      " datetime.datetime(2009, 10, 9, 18, 0)\n",
      " datetime.datetime(2009, 10, 9, 12, 0)\n",
      " datetime.datetime(2009, 10, 9, 6, 0) datetime.datetime(2009, 10, 9, 0, 0)\n",
      " datetime.datetime(2009, 10, 8, 18, 0)]\n"
     ]
    }
   ],
   "source": [
    "# get coordinates of subsetted grid\n",
    "print(\"init. longitude: \",traj2.lon)\n",
    "print(\"init. latitude:\",traj2.lat)\n",
    "print(\"init. pressure:\",traj2.p)\n",
    "print(\"times:\",traj2.time)\n"
   ]
  },
  {
   "cell_type": "code",
   "execution_count": 10,
   "id": "54cf9a58",
   "metadata": {},
   "outputs": [],
   "source": [
    "# helper function for pcolormesh\n",
    "def pcoloraxis(x):\n",
    "   out = np.zeros(len(x)+1)\n",
    "   dx = (x[1:]-x[:-1]).mean()\n",
    "   out[:-1] = x-0.5*dx\n",
    "   out[-1] = x[-1]+0.5*dx\n",
    "   return out\n",
    "\n"
   ]
  },
  {
   "cell_type": "code",
   "execution_count": 11,
   "id": "39347814",
   "metadata": {},
   "outputs": [
    {
     "data": {
      "text/plain": [
       "<matplotlib.colorbar.Colorbar at 0x2b36de434c70>"
      ]
     },
     "execution_count": 11,
     "metadata": {},
     "output_type": "execute_result"
    },
    {
     "data": {
      "image/png": "[encoded data removed]",
      "text/plain": [
       "<Figure size 432x288 with 2 Axes>"
      ]
     },
     "metadata": {
      "needs_background": "light"
     },
     "output_type": "display_data"
    }
   ],
   "source": [
    "# plot delta pressure of 775 hPa trajectories\n",
    "\n",
    "ax=plt.subplot(111,projection=ccrs.PlateCarree())\n",
    "ax.coastlines()\n",
    "a=ax.pcolormesh(pcoloraxis(traj.lon),pcoloraxis(traj.lat),\\\n",
    "              traj[-1,8].data[\"p\"]-traj[0,8].data[\"p\"],\\\n",
    "              vmin=-400,vmax=400,cmap=\"BrBG\")\n",
    "plt.colorbar(a)"
   ]
  },
  {
   "cell_type": "code",
   "execution_count": null,
   "id": "0dd2672a",
   "metadata": {},
   "outputs": [],
   "source": []
  }
 ],
 "metadata": {
  "kernelspec": {
   "display_name": "Python 3",
   "language": "python",
   "name": "python3"
  },
  "language_info": {
   "codemirror_mode": {
    "name": "ipython",
    "version": 3
   },
   "file_extension": ".py",
   "mimetype": "text/x-python",
   "name": "python",
   "nbconvert_exporter": "python",
   "pygments_lexer": "ipython3",
   "version": "3.8.8"
  }
 },
 "nbformat": 4,
 "nbformat_minor": 5
}
